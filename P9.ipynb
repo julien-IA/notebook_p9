{
 "cells": [
  {
   "cell_type": "markdown",
   "metadata": {},
   "source": [
    "# Utilisation la librairie Surprise"
   ]
  },
  {
   "cell_type": "markdown",
   "metadata": {},
   "source": [
    "## Exploration du dataset"
   ]
  },
  {
   "cell_type": "code",
   "execution_count": 20,
   "metadata": {},
   "outputs": [],
   "source": [
    "import numpy as numpy\n",
    "import pandas as pd\n",
    "import seaborn as sns\n",
    "import matplotlib.pyplot as plt"
   ]
  },
  {
   "cell_type": "code",
   "execution_count": 21,
   "metadata": {},
   "outputs": [],
   "source": [
    "clicks_sample = pd.read_csv(\"./news-portal-user-interactions-by-globocom/clicks_sample.csv\")\n",
    "article_metadata = pd.read_csv(\"./news-portal-user-interactions-by-globocom/articles_metadata.csv\")"
   ]
  },
  {
   "cell_type": "code",
   "execution_count": 22,
   "metadata": {},
   "outputs": [
    {
     "data": {
      "text/html": [
       "<div>\n",
       "<style scoped>\n",
       "    .dataframe tbody tr th:only-of-type {\n",
       "        vertical-align: middle;\n",
       "    }\n",
       "\n",
       "    .dataframe tbody tr th {\n",
       "        vertical-align: top;\n",
       "    }\n",
       "\n",
       "    .dataframe thead th {\n",
       "        text-align: right;\n",
       "    }\n",
       "</style>\n",
       "<table border=\"1\" class=\"dataframe\">\n",
       "  <thead>\n",
       "    <tr style=\"text-align: right;\">\n",
       "      <th></th>\n",
       "      <th>user_id</th>\n",
       "      <th>session_id</th>\n",
       "      <th>session_start</th>\n",
       "      <th>session_size</th>\n",
       "      <th>click_article_id</th>\n",
       "      <th>click_timestamp</th>\n",
       "      <th>click_environment</th>\n",
       "      <th>click_deviceGroup</th>\n",
       "      <th>click_os</th>\n",
       "      <th>click_country</th>\n",
       "      <th>click_region</th>\n",
       "      <th>click_referrer_type</th>\n",
       "    </tr>\n",
       "  </thead>\n",
       "  <tbody>\n",
       "    <tr>\n",
       "      <th>0</th>\n",
       "      <td>0</td>\n",
       "      <td>1506825423271737</td>\n",
       "      <td>1506825423000</td>\n",
       "      <td>2</td>\n",
       "      <td>157541</td>\n",
       "      <td>1506826828020</td>\n",
       "      <td>4</td>\n",
       "      <td>3</td>\n",
       "      <td>20</td>\n",
       "      <td>1</td>\n",
       "      <td>20</td>\n",
       "      <td>2</td>\n",
       "    </tr>\n",
       "    <tr>\n",
       "      <th>1</th>\n",
       "      <td>0</td>\n",
       "      <td>1506825423271737</td>\n",
       "      <td>1506825423000</td>\n",
       "      <td>2</td>\n",
       "      <td>68866</td>\n",
       "      <td>1506826858020</td>\n",
       "      <td>4</td>\n",
       "      <td>3</td>\n",
       "      <td>20</td>\n",
       "      <td>1</td>\n",
       "      <td>20</td>\n",
       "      <td>2</td>\n",
       "    </tr>\n",
       "    <tr>\n",
       "      <th>2</th>\n",
       "      <td>1</td>\n",
       "      <td>1506825426267738</td>\n",
       "      <td>1506825426000</td>\n",
       "      <td>2</td>\n",
       "      <td>235840</td>\n",
       "      <td>1506827017951</td>\n",
       "      <td>4</td>\n",
       "      <td>1</td>\n",
       "      <td>17</td>\n",
       "      <td>1</td>\n",
       "      <td>16</td>\n",
       "      <td>2</td>\n",
       "    </tr>\n",
       "    <tr>\n",
       "      <th>3</th>\n",
       "      <td>1</td>\n",
       "      <td>1506825426267738</td>\n",
       "      <td>1506825426000</td>\n",
       "      <td>2</td>\n",
       "      <td>96663</td>\n",
       "      <td>1506827047951</td>\n",
       "      <td>4</td>\n",
       "      <td>1</td>\n",
       "      <td>17</td>\n",
       "      <td>1</td>\n",
       "      <td>16</td>\n",
       "      <td>2</td>\n",
       "    </tr>\n",
       "    <tr>\n",
       "      <th>4</th>\n",
       "      <td>2</td>\n",
       "      <td>1506825435299739</td>\n",
       "      <td>1506825435000</td>\n",
       "      <td>2</td>\n",
       "      <td>119592</td>\n",
       "      <td>1506827090575</td>\n",
       "      <td>4</td>\n",
       "      <td>1</td>\n",
       "      <td>17</td>\n",
       "      <td>1</td>\n",
       "      <td>24</td>\n",
       "      <td>2</td>\n",
       "    </tr>\n",
       "  </tbody>\n",
       "</table>\n",
       "</div>"
      ],
      "text/plain": [
       "   user_id        session_id  session_start  session_size  click_article_id  \\\n",
       "0        0  1506825423271737  1506825423000             2            157541   \n",
       "1        0  1506825423271737  1506825423000             2             68866   \n",
       "2        1  1506825426267738  1506825426000             2            235840   \n",
       "3        1  1506825426267738  1506825426000             2             96663   \n",
       "4        2  1506825435299739  1506825435000             2            119592   \n",
       "\n",
       "   click_timestamp  click_environment  click_deviceGroup  click_os  \\\n",
       "0    1506826828020                  4                  3        20   \n",
       "1    1506826858020                  4                  3        20   \n",
       "2    1506827017951                  4                  1        17   \n",
       "3    1506827047951                  4                  1        17   \n",
       "4    1506827090575                  4                  1        17   \n",
       "\n",
       "   click_country  click_region  click_referrer_type  \n",
       "0              1            20                    2  \n",
       "1              1            20                    2  \n",
       "2              1            16                    2  \n",
       "3              1            16                    2  \n",
       "4              1            24                    2  "
      ]
     },
     "execution_count": 22,
     "metadata": {},
     "output_type": "execute_result"
    }
   ],
   "source": [
    "clicks_sample.head()"
   ]
  },
  {
   "cell_type": "code",
   "execution_count": 23,
   "metadata": {},
   "outputs": [
    {
     "name": "stdout",
     "output_type": "stream",
     "text": [
      "Nb articles max vu par utilisateur :  24\n",
      "Nb articles min vu par utilisateur :  2\n",
      "Nb utilisateurs max pour un article :  202\n",
      "Nb utilisateurs min pour un article :  1\n",
      "Nb clics max d'un utilisateur sur un même article :  1\n"
     ]
    }
   ],
   "source": [
    "print(\"Nb articles max vu par utilisateur : \", max(clicks_sample.groupby('user_id').click_article_id.nunique()))\n",
    "print(\"Nb articles min vu par utilisateur : \",min(clicks_sample.groupby('user_id').click_article_id.nunique()))\n",
    "print(\"Nb utilisateurs max pour un article : \", max(clicks_sample.groupby('click_article_id').user_id.nunique()))\n",
    "print(\"Nb utilisateurs min pour un article : \", min(clicks_sample.groupby('click_article_id').user_id.nunique()))\n",
    "print(\"Nb clics max d'un utilisateur sur un même article : \", clicks_sample.groupby(['user_id', 'click_article_id']).size().max())"
   ]
  },
  {
   "cell_type": "code",
   "execution_count": 24,
   "metadata": {},
   "outputs": [
    {
     "name": "stdout",
     "output_type": "stream",
     "text": [
      "<class 'pandas.core.frame.DataFrame'>\n",
      "RangeIndex: 1883 entries, 0 to 1882\n",
      "Data columns (total 12 columns):\n",
      " #   Column               Non-Null Count  Dtype\n",
      "---  ------               --------------  -----\n",
      " 0   user_id              1883 non-null   int64\n",
      " 1   session_id           1883 non-null   int64\n",
      " 2   session_start        1883 non-null   int64\n",
      " 3   session_size         1883 non-null   int64\n",
      " 4   click_article_id     1883 non-null   int64\n",
      " 5   click_timestamp      1883 non-null   int64\n",
      " 6   click_environment    1883 non-null   int64\n",
      " 7   click_deviceGroup    1883 non-null   int64\n",
      " 8   click_os             1883 non-null   int64\n",
      " 9   click_country        1883 non-null   int64\n",
      " 10  click_region         1883 non-null   int64\n",
      " 11  click_referrer_type  1883 non-null   int64\n",
      "dtypes: int64(12)\n",
      "memory usage: 176.7 KB\n"
     ]
    }
   ],
   "source": [
    "clicks_sample.info()"
   ]
  },
  {
   "cell_type": "code",
   "execution_count": 25,
   "metadata": {},
   "outputs": [
    {
     "data": {
      "text/plain": [
       "user_id                0\n",
       "session_id             0\n",
       "session_start          0\n",
       "session_size           0\n",
       "click_article_id       0\n",
       "click_timestamp        0\n",
       "click_environment      0\n",
       "click_deviceGroup      0\n",
       "click_os               0\n",
       "click_country          0\n",
       "click_region           0\n",
       "click_referrer_type    0\n",
       "dtype: int64"
      ]
     },
     "execution_count": 25,
     "metadata": {},
     "output_type": "execute_result"
    }
   ],
   "source": [
    "clicks_sample.isnull().sum()"
   ]
  },
  {
   "cell_type": "code",
   "execution_count": 26,
   "metadata": {},
   "outputs": [
    {
     "name": "stdout",
     "output_type": "stream",
     "text": [
      "Code pays :  [ 1 11 10  8  2  4  7]\n",
      "Code région :  [20 16 24 21 17 25 12 18 19  6  9 13  8  7 28  5  4 26 15 11 10 27  2  1\n",
      " 14 22]\n",
      "Code os :  [20 17  2 12 13 19]\n",
      "Code device group :  [3 1 4]\n"
     ]
    }
   ],
   "source": [
    "print(\"Code pays : \", clicks_sample['click_country'].unique())\n",
    "print(\"Code région : \", clicks_sample['click_region'].unique())\n",
    "print(\"Code os : \", clicks_sample['click_os'].unique())\n",
    "print(\"Code device group : \", clicks_sample['click_deviceGroup'].unique())"
   ]
  },
  {
   "cell_type": "code",
   "execution_count": 27,
   "metadata": {},
   "outputs": [
    {
     "data": {
      "text/html": [
       "<div>\n",
       "<style scoped>\n",
       "    .dataframe tbody tr th:only-of-type {\n",
       "        vertical-align: middle;\n",
       "    }\n",
       "\n",
       "    .dataframe tbody tr th {\n",
       "        vertical-align: top;\n",
       "    }\n",
       "\n",
       "    .dataframe thead th {\n",
       "        text-align: right;\n",
       "    }\n",
       "</style>\n",
       "<table border=\"1\" class=\"dataframe\">\n",
       "  <thead>\n",
       "    <tr style=\"text-align: right;\">\n",
       "      <th></th>\n",
       "      <th>article_id</th>\n",
       "      <th>category_id</th>\n",
       "      <th>created_at_ts</th>\n",
       "      <th>publisher_id</th>\n",
       "      <th>words_count</th>\n",
       "    </tr>\n",
       "  </thead>\n",
       "  <tbody>\n",
       "    <tr>\n",
       "      <th>0</th>\n",
       "      <td>0</td>\n",
       "      <td>0</td>\n",
       "      <td>1513144419000</td>\n",
       "      <td>0</td>\n",
       "      <td>168</td>\n",
       "    </tr>\n",
       "    <tr>\n",
       "      <th>1</th>\n",
       "      <td>1</td>\n",
       "      <td>1</td>\n",
       "      <td>1405341936000</td>\n",
       "      <td>0</td>\n",
       "      <td>189</td>\n",
       "    </tr>\n",
       "    <tr>\n",
       "      <th>2</th>\n",
       "      <td>2</td>\n",
       "      <td>1</td>\n",
       "      <td>1408667706000</td>\n",
       "      <td>0</td>\n",
       "      <td>250</td>\n",
       "    </tr>\n",
       "    <tr>\n",
       "      <th>3</th>\n",
       "      <td>3</td>\n",
       "      <td>1</td>\n",
       "      <td>1408468313000</td>\n",
       "      <td>0</td>\n",
       "      <td>230</td>\n",
       "    </tr>\n",
       "    <tr>\n",
       "      <th>4</th>\n",
       "      <td>4</td>\n",
       "      <td>1</td>\n",
       "      <td>1407071171000</td>\n",
       "      <td>0</td>\n",
       "      <td>162</td>\n",
       "    </tr>\n",
       "  </tbody>\n",
       "</table>\n",
       "</div>"
      ],
      "text/plain": [
       "   article_id  category_id  created_at_ts  publisher_id  words_count\n",
       "0           0            0  1513144419000             0          168\n",
       "1           1            1  1405341936000             0          189\n",
       "2           2            1  1408667706000             0          250\n",
       "3           3            1  1408468313000             0          230\n",
       "4           4            1  1407071171000             0          162"
      ]
     },
     "execution_count": 27,
     "metadata": {},
     "output_type": "execute_result"
    }
   ],
   "source": [
    "article_metadata.head()"
   ]
  },
  {
   "cell_type": "code",
   "execution_count": 28,
   "metadata": {},
   "outputs": [
    {
     "name": "stdout",
     "output_type": "stream",
     "text": [
      "<class 'pandas.core.frame.DataFrame'>\n",
      "RangeIndex: 364047 entries, 0 to 364046\n",
      "Data columns (total 5 columns):\n",
      " #   Column         Non-Null Count   Dtype\n",
      "---  ------         --------------   -----\n",
      " 0   article_id     364047 non-null  int64\n",
      " 1   category_id    364047 non-null  int64\n",
      " 2   created_at_ts  364047 non-null  int64\n",
      " 3   publisher_id   364047 non-null  int64\n",
      " 4   words_count    364047 non-null  int64\n",
      "dtypes: int64(5)\n",
      "memory usage: 13.9 MB\n"
     ]
    }
   ],
   "source": [
    "article_metadata.info()"
   ]
  },
  {
   "cell_type": "code",
   "execution_count": 29,
   "metadata": {},
   "outputs": [
    {
     "data": {
      "text/plain": [
       "article_id       0\n",
       "category_id      0\n",
       "created_at_ts    0\n",
       "publisher_id     0\n",
       "words_count      0\n",
       "dtype: int64"
      ]
     },
     "execution_count": 29,
     "metadata": {},
     "output_type": "execute_result"
    }
   ],
   "source": [
    "article_metadata.isnull().sum()"
   ]
  },
  {
   "cell_type": "code",
   "execution_count": 30,
   "metadata": {},
   "outputs": [
    {
     "name": "stdout",
     "output_type": "stream",
     "text": [
      "Nb de article_id :  364047\n",
      "Nb de Category_id :  461\n",
      "Nb de publisher_id :  1\n",
      "Nb de mots min et max :  0 6690\n"
     ]
    }
   ],
   "source": [
    "print(\"Nb de article_id : \", len(article_metadata['article_id'].unique()))\n",
    "print(\"Nb de Category_id : \", len(article_metadata['category_id'].unique()))\n",
    "print(\"Nb de publisher_id : \", len(article_metadata['publisher_id'].unique()))\n",
    "print(\"Nb de mots min et max : \", min(article_metadata.words_count), max(article_metadata.words_count))"
   ]
  },
  {
   "cell_type": "code",
   "execution_count": 31,
   "metadata": {},
   "outputs": [],
   "source": [
    "import pickle\n",
    "with open('./news-portal-user-interactions-by-globocom/articles_embeddings.pickle', 'rb') as file:\n",
    "  arr = pickle.load(file)"
   ]
  },
  {
   "cell_type": "code",
   "execution_count": 32,
   "metadata": {},
   "outputs": [],
   "source": [
    "# clicks_sample : user_id, click_article_id\n",
    "# article_metadata : article_id, category_id, words_count"
   ]
  },
  {
   "cell_type": "code",
   "execution_count": 33,
   "metadata": {},
   "outputs": [],
   "source": [
    "data_merge=clicks_sample.loc[:, ['user_id','click_article_id']]\n",
    "\n",
    "data_merge = pd.merge(data_merge, article_metadata, left_on='click_article_id', right_on='article_id', how='inner')"
   ]
  },
  {
   "cell_type": "code",
   "execution_count": 34,
   "metadata": {},
   "outputs": [
    {
     "data": {
      "text/html": [
       "<div>\n",
       "<style scoped>\n",
       "    .dataframe tbody tr th:only-of-type {\n",
       "        vertical-align: middle;\n",
       "    }\n",
       "\n",
       "    .dataframe tbody tr th {\n",
       "        vertical-align: top;\n",
       "    }\n",
       "\n",
       "    .dataframe thead th {\n",
       "        text-align: right;\n",
       "    }\n",
       "</style>\n",
       "<table border=\"1\" class=\"dataframe\">\n",
       "  <thead>\n",
       "    <tr style=\"text-align: right;\">\n",
       "      <th></th>\n",
       "      <th>user_id</th>\n",
       "      <th>click_article_id</th>\n",
       "      <th>article_id</th>\n",
       "      <th>category_id</th>\n",
       "      <th>created_at_ts</th>\n",
       "      <th>publisher_id</th>\n",
       "      <th>words_count</th>\n",
       "    </tr>\n",
       "  </thead>\n",
       "  <tbody>\n",
       "    <tr>\n",
       "      <th>0</th>\n",
       "      <td>0</td>\n",
       "      <td>157541</td>\n",
       "      <td>157541</td>\n",
       "      <td>281</td>\n",
       "      <td>1506800518000</td>\n",
       "      <td>0</td>\n",
       "      <td>280</td>\n",
       "    </tr>\n",
       "    <tr>\n",
       "      <th>1</th>\n",
       "      <td>20</td>\n",
       "      <td>157541</td>\n",
       "      <td>157541</td>\n",
       "      <td>281</td>\n",
       "      <td>1506800518000</td>\n",
       "      <td>0</td>\n",
       "      <td>280</td>\n",
       "    </tr>\n",
       "    <tr>\n",
       "      <th>2</th>\n",
       "      <td>44</td>\n",
       "      <td>157541</td>\n",
       "      <td>157541</td>\n",
       "      <td>281</td>\n",
       "      <td>1506800518000</td>\n",
       "      <td>0</td>\n",
       "      <td>280</td>\n",
       "    </tr>\n",
       "    <tr>\n",
       "      <th>3</th>\n",
       "      <td>45</td>\n",
       "      <td>157541</td>\n",
       "      <td>157541</td>\n",
       "      <td>281</td>\n",
       "      <td>1506800518000</td>\n",
       "      <td>0</td>\n",
       "      <td>280</td>\n",
       "    </tr>\n",
       "    <tr>\n",
       "      <th>4</th>\n",
       "      <td>76</td>\n",
       "      <td>157541</td>\n",
       "      <td>157541</td>\n",
       "      <td>281</td>\n",
       "      <td>1506800518000</td>\n",
       "      <td>0</td>\n",
       "      <td>280</td>\n",
       "    </tr>\n",
       "  </tbody>\n",
       "</table>\n",
       "</div>"
      ],
      "text/plain": [
       "   user_id  click_article_id  article_id  category_id  created_at_ts  \\\n",
       "0        0            157541      157541          281  1506800518000   \n",
       "1       20            157541      157541          281  1506800518000   \n",
       "2       44            157541      157541          281  1506800518000   \n",
       "3       45            157541      157541          281  1506800518000   \n",
       "4       76            157541      157541          281  1506800518000   \n",
       "\n",
       "   publisher_id  words_count  \n",
       "0             0          280  \n",
       "1             0          280  \n",
       "2             0          280  \n",
       "3             0          280  \n",
       "4             0          280  "
      ]
     },
     "execution_count": 34,
     "metadata": {},
     "output_type": "execute_result"
    }
   ],
   "source": [
    "data_merge.head()"
   ]
  },
  {
   "cell_type": "markdown",
   "metadata": {},
   "source": [
    "# Calcul de la similarity cosine"
   ]
  },
  {
   "cell_type": "markdown",
   "metadata": {},
   "source": [
    "### Réduction de la matrice par PCA"
   ]
  },
  {
   "cell_type": "code",
   "execution_count": 35,
   "metadata": {},
   "outputs": [],
   "source": [
    "from sklearn.preprocessing import StandardScaler\n",
    "from sklearn.decomposition import PCA\n",
    "scalaire = StandardScaler()\n",
    "df_scaled = pd.DataFrame(scalaire.fit_transform(arr))\n",
    "pca=PCA()\n",
    "df_pca=pd.DataFrame(pca.fit_transform(df_scaled))"
   ]
  },
  {
   "cell_type": "code",
   "execution_count": 36,
   "metadata": {},
   "outputs": [
    {
     "data": {
      "text/plain": [
       "Text(0, 0.5, 'Variation expliquée')"
      ]
     },
     "execution_count": 36,
     "metadata": {},
     "output_type": "execute_result"
    },
    {
     "data": {
      "image/png": "[encoded data removed]",
      "text/plain": [
       "<Figure size 640x480 with 1 Axes>"
      ]
     },
     "metadata": {},
     "output_type": "display_data"
    }
   ],
   "source": [
    "#On observe la variance des composants principaux pdéterminer combien on en conserve\n",
    "import matplotlib.pyplot as plt\n",
    "pd.DataFrame(pca.explained_variance_ratio_).plot.bar()\n",
    "plt.legend('')\n",
    "plt.xlabel('Composants principaux')\n",
    "plt.ylabel('Variation expliquée')"
   ]
  },
  {
   "cell_type": "code",
   "execution_count": 37,
   "metadata": {},
   "outputs": [
    {
     "data": {
      "text/plain": [
       "0.06764515185140943"
      ]
     },
     "execution_count": 37,
     "metadata": {},
     "output_type": "execute_result"
    }
   ],
   "source": [
    "len(pca.explained_variance_ratio_)\n",
    "pca.explained_variance_ratio_[1]"
   ]
  },
  {
   "cell_type": "code",
   "execution_count": 38,
   "metadata": {},
   "outputs": [
    {
     "name": "stdout",
     "output_type": "stream",
     "text": [
      "Somme= 0.8054127604981864\n",
      "Nb de composants principaux= 28\n"
     ]
    }
   ],
   "source": [
    "nbCompoPrec=0\n",
    "somme=0\n",
    "for i in range(0, len(pca.explained_variance_ratio_)-1):\n",
    "    somme=somme+pca.explained_variance_ratio_[i]\n",
    "    if(somme>0.8):\n",
    "        print(\"Somme=\", somme)\n",
    "        print(\"Nb de composants principaux=\", i+1)\n",
    "        break"
   ]
  },
  {
   "cell_type": "code",
   "execution_count": 39,
   "metadata": {},
   "outputs": [],
   "source": [
    "df_pca_reduit = df_pca.loc[:,0:27]"
   ]
  },
  {
   "cell_type": "code",
   "execution_count": 40,
   "metadata": {},
   "outputs": [
    {
     "data": {
      "text/plain": [
       "[RangeIndex(start=0, stop=364047, step=1),\n",
       " RangeIndex(start=0, stop=28, step=1)]"
      ]
     },
     "execution_count": 40,
     "metadata": {},
     "output_type": "execute_result"
    }
   ],
   "source": [
    "df_pca_reduit.axes"
   ]
  },
  {
   "cell_type": "code",
   "execution_count": 86,
   "metadata": {},
   "outputs": [],
   "source": [
    "topn=5"
   ]
  },
  {
   "cell_type": "code",
   "execution_count": 97,
   "metadata": {},
   "outputs": [],
   "source": [
    "from sklearn.metrics.pairwise import linear_kernel, cosine_similarity\n",
    "\n",
    "df_user_profile=df_pca_reduit.loc[500,:]\n",
    "cosine_similarities = cosine_similarity(df_user_profile.values.reshape(1, -1), df_pca_reduit)\n",
    "similar_indices = cosine_similarities.argsort().flatten()[-topn:]\n",
    "        # #Sort the similar items by similarity\n",
    "        # similar_items = sorted([(item_ids[i], cosine_similarities[0,i]) for i in similar_indices], key=lambda x: -x[1])\n",
    "        # return similar_items"
   ]
  },
  {
   "cell_type": "code",
   "execution_count": 98,
   "metadata": {},
   "outputs": [],
   "source": [
    "similar_indices = cosine_similarities.argsort().flatten()[-topn:]"
   ]
  },
  {
   "cell_type": "code",
   "execution_count": 99,
   "metadata": {},
   "outputs": [],
   "source": [
    "similar_items = sorted([(article_metadata.article_id[i], cosine_similarities[0,i]) for i in similar_indices], key=lambda x: -x[1])"
   ]
  },
  {
   "cell_type": "code",
   "execution_count": 100,
   "metadata": {},
   "outputs": [
    {
     "data": {
      "text/plain": [
       "[(229250, 158.86963),\n",
       " (229245, 155.79268),\n",
       " (228324, 154.11856),\n",
       " (228627, 152.7821),\n",
       " (165736, 152.7659)]"
      ]
     },
     "execution_count": 100,
     "metadata": {},
     "output_type": "execute_result"
    }
   ],
   "source": [
    "similar_items"
   ]
  },
  {
   "cell_type": "code",
   "execution_count": null,
   "metadata": {},
   "outputs": [],
   "source": []
  }
 ],
 "metadata": {
  "kernelspec": {
   "display_name": "Python 3.9.1 ('.venv': venv)",
   "language": "python",
   "name": "python3"
  },
  "language_info": {
   "codemirror_mode": {
    "name": "ipython",
    "version": 3
   },
   "file_extension": ".py",
   "mimetype": "text/x-python",
   "name": "python",
   "nbconvert_exporter": "python",
   "pygments_lexer": "ipython3",
   "version": "3.9.1"
  },
  "orig_nbformat": 4,
  "vscode": {
   "interpreter": {
    "hash": "b996820a8dbdb092acaff85541a9f9849080514178b96f6246e37fae8ff572ec"
   }
  }
 },
 "nbformat": 4,
 "nbformat_minor": 2
}
